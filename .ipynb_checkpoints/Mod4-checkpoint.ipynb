{
 "cells": [
  {
   "cell_type": "markdown",
   "metadata": {},
   "source": [
    "# Módulo 4: Definición de unidad o dominios de estimación"
   ]
  },
  {
   "cell_type": "markdown",
   "metadata": {},
   "source": [
    "# Librerías"
   ]
  },
  {
   "cell_type": "code",
   "execution_count": null,
   "metadata": {},
   "outputs": [],
   "source": [
    "import pandas as pd \n",
    "import plotly.express as px\n",
    "import probscale\n",
    "import matplotlib.pyplot as plt\n",
    "import warnings\n",
    "warnings.simplefilter('ignore')"
   ]
  },
  {
   "cell_type": "markdown",
   "metadata": {},
   "source": [
    "# Carga de archivos"
   ]
  },
  {
   "cell_type": "code",
   "execution_count": null,
   "metadata": {
    "scrolled": false
   },
   "outputs": [],
   "source": [
    "DH = pd.read_csv('db_mineralogia.csv', sep=',')\n",
    "DH"
   ]
  },
  {
   "cell_type": "markdown",
   "metadata": {},
   "source": [
    "# Creación de UG"
   ]
  },
  {
   "cell_type": "code",
   "execution_count": null,
   "metadata": {
    "scrolled": true
   },
   "outputs": [],
   "source": [
    "DH['ug'] = -99\n",
    "DH"
   ]
  },
  {
   "cell_type": "code",
   "execution_count": null,
   "metadata": {},
   "outputs": [],
   "source": [
    "for index, row in DH.iterrows():\n",
    "    if row['dom'] != 3:\n",
    "        DH.loc[index, 'ug'] = 1\n",
    "    if row['dom'] == 3:\n",
    "        DH.loc[index, 'ug'] = 2\n",
    "        if ((row['alte'] == 'BTK') or (row['alte'] == 'POT')) and (row['mine'] != 'BN'):\n",
    "            DH.loc[index, 'ug'] = 3\n",
    "        if ((row['alte'] == 'BTK') or (row['alte'] == 'POT')) and (row['mine'] == 'BN'):\n",
    "            DH.loc[index, 'ug'] = 4\n",
    "DH"
   ]
  },
  {
   "cell_type": "code",
   "execution_count": null,
   "metadata": {},
   "outputs": [],
   "source": [
    "DH['ug'] = -99\n",
    "DH['ug'][(DH['dom'] != 3)] = 1\n",
    "DH['ug'][(DH['dom'] == 3)] = 2\n",
    "DH['ug'][(DH['ug'] == 2) & ((DH['alte'] == 'BTK') | (DH['alte'] == 'POT')) & (DH['mine'] != 'BN')] = 3\n",
    "DH['ug'][(DH['ug'] == 2) & ((DH['alte'] == 'BTK') | (DH['alte'] == 'POT')) & (DH['mine'] == 'BN')] = 4 "
   ]
  },
  {
   "cell_type": "markdown",
   "metadata": {},
   "source": [
    "# Estadísticas por categoría: UG"
   ]
  },
  {
   "cell_type": "code",
   "execution_count": null,
   "metadata": {
    "scrolled": true
   },
   "outputs": [],
   "source": [
    "stats = DH.groupby(['ug']).describe()\n",
    "stats['bo']"
   ]
  },
  {
   "cell_type": "markdown",
   "metadata": {},
   "source": [
    "# Distribución acumulada por categoría (Probplot): UG"
   ]
  },
  {
   "cell_type": "code",
   "execution_count": null,
   "metadata": {
    "scrolled": false
   },
   "outputs": [],
   "source": [
    "from matplotlib.ticker import ScalarFormatter\n",
    "fig, ax = plt.subplots(figsize=(10,10))\n",
    "for category in DH.groupby('ug').groups.keys():\n",
    "    xData = DH.groupby('ug').get_group(category)['bo'].sort_values()\n",
    "    probscale.probplot(xData, ax=ax, probax='y', datascale='log', label=category)\n",
    "ax.legend()\n",
    "ax.set_ylim(bottom=0.001,top=99.99)\n",
    "ax.set_xlim(left=1e-4, right=1e1)\n",
    "plt.gca().xaxis.set_major_formatter(ScalarFormatter())\n",
    "ax.set_xlabel('Ordered Values')\n",
    "ax.set_ylabel('Normal probability scale (%)')\n",
    "ax.set_title('Probability Plot')\n",
    "plt.savefig('probPlot_ug.png')"
   ]
  },
  {
   "cell_type": "markdown",
   "metadata": {},
   "source": [
    "# Visualización por categoría: UG"
   ]
  },
  {
   "cell_type": "code",
   "execution_count": null,
   "metadata": {},
   "outputs": [],
   "source": [
    "DH[\"ug\"] = DH[\"ug\"].astype(str)\n",
    "fig = px.scatter_3d(DH, x='East', y='North', z='Elevation', color='ug')\n",
    "fig.update_traces(marker=dict(size=5.0))\n",
    "fig.show()"
   ]
  },
  {
   "cell_type": "markdown",
   "metadata": {},
   "source": [
    "# Exportar resultados"
   ]
  },
  {
   "cell_type": "code",
   "execution_count": null,
   "metadata": {},
   "outputs": [],
   "source": [
    "DH.to_csv('DH.csv',index=False)"
   ]
  }
 ],
 "metadata": {
  "kernelspec": {
   "display_name": "Python 3",
   "language": "python",
   "name": "python3"
  },
  "language_info": {
   "codemirror_mode": {
    "name": "ipython",
    "version": 3
   },
   "file_extension": ".py",
   "mimetype": "text/x-python",
   "name": "python",
   "nbconvert_exporter": "python",
   "pygments_lexer": "ipython3",
   "version": "3.8.3"
  }
 },
 "nbformat": 4,
 "nbformat_minor": 4
}
